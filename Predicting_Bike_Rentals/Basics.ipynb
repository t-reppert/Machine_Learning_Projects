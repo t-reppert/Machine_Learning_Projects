{
 "cells": [
  {
   "cell_type": "code",
   "execution_count": 8,
   "metadata": {
    "collapsed": true
   },
   "outputs": [],
   "source": [
    "import pandas as pd\n",
    "import numpy as np\n",
    "import matplotlib.pyplot as plt\n",
    "%matplotlib inline\n",
    "\n"
   ]
  },
  {
   "cell_type": "code",
   "execution_count": 9,
   "metadata": {
    "collapsed": false
   },
   "outputs": [
    {
     "data": {
      "text/html": [
       "<div>\n",
       "<style scoped>\n",
       "    .dataframe tbody tr th:only-of-type {\n",
       "        vertical-align: middle;\n",
       "    }\n",
       "\n",
       "    .dataframe tbody tr th {\n",
       "        vertical-align: top;\n",
       "    }\n",
       "\n",
       "    .dataframe thead th {\n",
       "        text-align: right;\n",
       "    }\n",
       "</style>\n",
       "<table border=\"1\" class=\"dataframe\">\n",
       "  <thead>\n",
       "    <tr style=\"text-align: right;\">\n",
       "      <th></th>\n",
       "      <th>instant</th>\n",
       "      <th>dteday</th>\n",
       "      <th>season</th>\n",
       "      <th>yr</th>\n",
       "      <th>mnth</th>\n",
       "      <th>hr</th>\n",
       "      <th>holiday</th>\n",
       "      <th>weekday</th>\n",
       "      <th>workingday</th>\n",
       "      <th>weathersit</th>\n",
       "      <th>temp</th>\n",
       "      <th>atemp</th>\n",
       "      <th>hum</th>\n",
       "      <th>windspeed</th>\n",
       "      <th>casual</th>\n",
       "      <th>registered</th>\n",
       "      <th>cnt</th>\n",
       "    </tr>\n",
       "  </thead>\n",
       "  <tbody>\n",
       "    <tr>\n",
       "      <th>0</th>\n",
       "      <td>1</td>\n",
       "      <td>2011-01-01</td>\n",
       "      <td>1</td>\n",
       "      <td>0</td>\n",
       "      <td>1</td>\n",
       "      <td>0</td>\n",
       "      <td>0</td>\n",
       "      <td>6</td>\n",
       "      <td>0</td>\n",
       "      <td>1</td>\n",
       "      <td>0.24</td>\n",
       "      <td>0.2879</td>\n",
       "      <td>0.81</td>\n",
       "      <td>0.0</td>\n",
       "      <td>3</td>\n",
       "      <td>13</td>\n",
       "      <td>16</td>\n",
       "    </tr>\n",
       "    <tr>\n",
       "      <th>1</th>\n",
       "      <td>2</td>\n",
       "      <td>2011-01-01</td>\n",
       "      <td>1</td>\n",
       "      <td>0</td>\n",
       "      <td>1</td>\n",
       "      <td>1</td>\n",
       "      <td>0</td>\n",
       "      <td>6</td>\n",
       "      <td>0</td>\n",
       "      <td>1</td>\n",
       "      <td>0.22</td>\n",
       "      <td>0.2727</td>\n",
       "      <td>0.80</td>\n",
       "      <td>0.0</td>\n",
       "      <td>8</td>\n",
       "      <td>32</td>\n",
       "      <td>40</td>\n",
       "    </tr>\n",
       "  </tbody>\n",
       "</table>\n",
       "</div>"
      ],
      "text/plain": [
       "   instant      dteday  season  yr  mnth  hr  holiday  weekday  workingday  \\\n",
       "0        1  2011-01-01       1   0     1   0        0        6           0   \n",
       "1        2  2011-01-01       1   0     1   1        0        6           0   \n",
       "\n",
       "   weathersit  temp   atemp   hum  windspeed  casual  registered  cnt  \n",
       "0           1  0.24  0.2879  0.81        0.0       3          13   16  \n",
       "1           1  0.22  0.2727  0.80        0.0       8          32   40  "
      ]
     },
     "execution_count": 9,
     "metadata": {},
     "output_type": "execute_result"
    }
   ],
   "source": [
    "bike_rentals = pd.read_csv(\"bike_rental_hour.csv\")\n",
    "bike_rentals.head(2)"
   ]
  },
  {
   "cell_type": "code",
   "execution_count": 13,
   "metadata": {
    "collapsed": false
   },
   "outputs": [
    {
     "data": {
      "image/png": "[encoded data removed]",
      "text/plain": [
       "<matplotlib.figure.Figure at 0x7fe666374f98>"
      ]
     },
     "metadata": {},
     "output_type": "display_data"
    }
   ],
   "source": [
    "plt.hist(bike_rentals['cnt'],bins=50)\n",
    "plt.show()"
   ]
  },
  {
   "cell_type": "code",
   "execution_count": 38,
   "metadata": {
    "collapsed": false
   },
   "outputs": [
    {
     "data": {
      "text/html": [
       "<div>\n",
       "<style scoped>\n",
       "    .dataframe tbody tr th:only-of-type {\n",
       "        vertical-align: middle;\n",
       "    }\n",
       "\n",
       "    .dataframe tbody tr th {\n",
       "        vertical-align: top;\n",
       "    }\n",
       "\n",
       "    .dataframe thead th {\n",
       "        text-align: right;\n",
       "    }\n",
       "</style>\n",
       "<table border=\"1\" class=\"dataframe\">\n",
       "  <thead>\n",
       "    <tr style=\"text-align: right;\">\n",
       "      <th></th>\n",
       "      <th>instant</th>\n",
       "      <th>season</th>\n",
       "      <th>yr</th>\n",
       "      <th>mnth</th>\n",
       "      <th>hr</th>\n",
       "      <th>holiday</th>\n",
       "      <th>weekday</th>\n",
       "      <th>workingday</th>\n",
       "      <th>weathersit</th>\n",
       "      <th>temp</th>\n",
       "      <th>atemp</th>\n",
       "      <th>hum</th>\n",
       "      <th>windspeed</th>\n",
       "      <th>casual</th>\n",
       "      <th>registered</th>\n",
       "      <th>cnt</th>\n",
       "      <th>time_label</th>\n",
       "    </tr>\n",
       "  </thead>\n",
       "  <tbody>\n",
       "    <tr>\n",
       "      <th>instant</th>\n",
       "      <td>1.000000</td>\n",
       "      <td>0.404046</td>\n",
       "      <td>0.866014</td>\n",
       "      <td>0.489164</td>\n",
       "      <td>-0.004775</td>\n",
       "      <td>0.014723</td>\n",
       "      <td>0.001357</td>\n",
       "      <td>-0.003416</td>\n",
       "      <td>-0.014198</td>\n",
       "      <td>0.136178</td>\n",
       "      <td>0.137615</td>\n",
       "      <td>0.009577</td>\n",
       "      <td>-0.074505</td>\n",
       "      <td>0.158295</td>\n",
       "      <td>0.282046</td>\n",
       "      <td>0.278379</td>\n",
       "      <td>0.006705</td>\n",
       "    </tr>\n",
       "    <tr>\n",
       "      <th>season</th>\n",
       "      <td>0.404046</td>\n",
       "      <td>1.000000</td>\n",
       "      <td>-0.010742</td>\n",
       "      <td>0.830386</td>\n",
       "      <td>-0.006117</td>\n",
       "      <td>-0.009585</td>\n",
       "      <td>-0.002335</td>\n",
       "      <td>0.013743</td>\n",
       "      <td>-0.014524</td>\n",
       "      <td>0.312025</td>\n",
       "      <td>0.319380</td>\n",
       "      <td>0.150625</td>\n",
       "      <td>-0.149773</td>\n",
       "      <td>0.120206</td>\n",
       "      <td>0.174226</td>\n",
       "      <td>0.178056</td>\n",
       "      <td>0.006617</td>\n",
       "    </tr>\n",
       "    <tr>\n",
       "      <th>yr</th>\n",
       "      <td>0.866014</td>\n",
       "      <td>-0.010742</td>\n",
       "      <td>1.000000</td>\n",
       "      <td>-0.010473</td>\n",
       "      <td>-0.003867</td>\n",
       "      <td>0.006692</td>\n",
       "      <td>-0.004485</td>\n",
       "      <td>-0.002196</td>\n",
       "      <td>-0.019157</td>\n",
       "      <td>0.040913</td>\n",
       "      <td>0.039222</td>\n",
       "      <td>-0.083546</td>\n",
       "      <td>-0.008740</td>\n",
       "      <td>0.142779</td>\n",
       "      <td>0.253684</td>\n",
       "      <td>0.250495</td>\n",
       "      <td>0.004755</td>\n",
       "    </tr>\n",
       "    <tr>\n",
       "      <th>mnth</th>\n",
       "      <td>0.489164</td>\n",
       "      <td>0.830386</td>\n",
       "      <td>-0.010473</td>\n",
       "      <td>1.000000</td>\n",
       "      <td>-0.005772</td>\n",
       "      <td>0.018430</td>\n",
       "      <td>0.010400</td>\n",
       "      <td>-0.003477</td>\n",
       "      <td>0.005400</td>\n",
       "      <td>0.201691</td>\n",
       "      <td>0.208096</td>\n",
       "      <td>0.164411</td>\n",
       "      <td>-0.135386</td>\n",
       "      <td>0.068457</td>\n",
       "      <td>0.122273</td>\n",
       "      <td>0.120638</td>\n",
       "      <td>0.005786</td>\n",
       "    </tr>\n",
       "    <tr>\n",
       "      <th>hr</th>\n",
       "      <td>-0.004775</td>\n",
       "      <td>-0.006117</td>\n",
       "      <td>-0.003867</td>\n",
       "      <td>-0.005772</td>\n",
       "      <td>1.000000</td>\n",
       "      <td>0.000479</td>\n",
       "      <td>-0.003498</td>\n",
       "      <td>0.002285</td>\n",
       "      <td>-0.020203</td>\n",
       "      <td>0.137603</td>\n",
       "      <td>0.133750</td>\n",
       "      <td>-0.276498</td>\n",
       "      <td>0.137252</td>\n",
       "      <td>0.301202</td>\n",
       "      <td>0.374141</td>\n",
       "      <td>0.394071</td>\n",
       "      <td>-0.187486</td>\n",
       "    </tr>\n",
       "    <tr>\n",
       "      <th>holiday</th>\n",
       "      <td>0.014723</td>\n",
       "      <td>-0.009585</td>\n",
       "      <td>0.006692</td>\n",
       "      <td>0.018430</td>\n",
       "      <td>0.000479</td>\n",
       "      <td>1.000000</td>\n",
       "      <td>-0.102088</td>\n",
       "      <td>-0.252471</td>\n",
       "      <td>-0.017036</td>\n",
       "      <td>-0.027340</td>\n",
       "      <td>-0.030973</td>\n",
       "      <td>-0.010588</td>\n",
       "      <td>0.003988</td>\n",
       "      <td>0.031564</td>\n",
       "      <td>-0.047345</td>\n",
       "      <td>-0.030927</td>\n",
       "      <td>-0.000702</td>\n",
       "    </tr>\n",
       "    <tr>\n",
       "      <th>weekday</th>\n",
       "      <td>0.001357</td>\n",
       "      <td>-0.002335</td>\n",
       "      <td>-0.004485</td>\n",
       "      <td>0.010400</td>\n",
       "      <td>-0.003498</td>\n",
       "      <td>-0.102088</td>\n",
       "      <td>1.000000</td>\n",
       "      <td>0.035955</td>\n",
       "      <td>0.003311</td>\n",
       "      <td>-0.001795</td>\n",
       "      <td>-0.008821</td>\n",
       "      <td>-0.037158</td>\n",
       "      <td>0.011502</td>\n",
       "      <td>0.032721</td>\n",
       "      <td>0.021578</td>\n",
       "      <td>0.026900</td>\n",
       "      <td>0.002173</td>\n",
       "    </tr>\n",
       "    <tr>\n",
       "      <th>workingday</th>\n",
       "      <td>-0.003416</td>\n",
       "      <td>0.013743</td>\n",
       "      <td>-0.002196</td>\n",
       "      <td>-0.003477</td>\n",
       "      <td>0.002285</td>\n",
       "      <td>-0.252471</td>\n",
       "      <td>0.035955</td>\n",
       "      <td>1.000000</td>\n",
       "      <td>0.044672</td>\n",
       "      <td>0.055390</td>\n",
       "      <td>0.054667</td>\n",
       "      <td>0.015688</td>\n",
       "      <td>-0.011830</td>\n",
       "      <td>-0.300942</td>\n",
       "      <td>0.134326</td>\n",
       "      <td>0.030284</td>\n",
       "      <td>-0.000897</td>\n",
       "    </tr>\n",
       "    <tr>\n",
       "      <th>weathersit</th>\n",
       "      <td>-0.014198</td>\n",
       "      <td>-0.014524</td>\n",
       "      <td>-0.019157</td>\n",
       "      <td>0.005400</td>\n",
       "      <td>-0.020203</td>\n",
       "      <td>-0.017036</td>\n",
       "      <td>0.003311</td>\n",
       "      <td>0.044672</td>\n",
       "      <td>1.000000</td>\n",
       "      <td>-0.102640</td>\n",
       "      <td>-0.105563</td>\n",
       "      <td>0.418130</td>\n",
       "      <td>0.026226</td>\n",
       "      <td>-0.152628</td>\n",
       "      <td>-0.120966</td>\n",
       "      <td>-0.142426</td>\n",
       "      <td>-0.035784</td>\n",
       "    </tr>\n",
       "    <tr>\n",
       "      <th>temp</th>\n",
       "      <td>0.136178</td>\n",
       "      <td>0.312025</td>\n",
       "      <td>0.040913</td>\n",
       "      <td>0.201691</td>\n",
       "      <td>0.137603</td>\n",
       "      <td>-0.027340</td>\n",
       "      <td>-0.001795</td>\n",
       "      <td>0.055390</td>\n",
       "      <td>-0.102640</td>\n",
       "      <td>1.000000</td>\n",
       "      <td>0.987672</td>\n",
       "      <td>-0.069881</td>\n",
       "      <td>-0.023125</td>\n",
       "      <td>0.459616</td>\n",
       "      <td>0.335361</td>\n",
       "      <td>0.404772</td>\n",
       "      <td>-0.061551</td>\n",
       "    </tr>\n",
       "    <tr>\n",
       "      <th>atemp</th>\n",
       "      <td>0.137615</td>\n",
       "      <td>0.319380</td>\n",
       "      <td>0.039222</td>\n",
       "      <td>0.208096</td>\n",
       "      <td>0.133750</td>\n",
       "      <td>-0.030973</td>\n",
       "      <td>-0.008821</td>\n",
       "      <td>0.054667</td>\n",
       "      <td>-0.105563</td>\n",
       "      <td>0.987672</td>\n",
       "      <td>1.000000</td>\n",
       "      <td>-0.051918</td>\n",
       "      <td>-0.062336</td>\n",
       "      <td>0.454080</td>\n",
       "      <td>0.332559</td>\n",
       "      <td>0.400929</td>\n",
       "      <td>-0.057494</td>\n",
       "    </tr>\n",
       "    <tr>\n",
       "      <th>hum</th>\n",
       "      <td>0.009577</td>\n",
       "      <td>0.150625</td>\n",
       "      <td>-0.083546</td>\n",
       "      <td>0.164411</td>\n",
       "      <td>-0.276498</td>\n",
       "      <td>-0.010588</td>\n",
       "      <td>-0.037158</td>\n",
       "      <td>0.015688</td>\n",
       "      <td>0.418130</td>\n",
       "      <td>-0.069881</td>\n",
       "      <td>-0.051918</td>\n",
       "      <td>1.000000</td>\n",
       "      <td>-0.290105</td>\n",
       "      <td>-0.347028</td>\n",
       "      <td>-0.273933</td>\n",
       "      <td>-0.322911</td>\n",
       "      <td>0.144593</td>\n",
       "    </tr>\n",
       "    <tr>\n",
       "      <th>windspeed</th>\n",
       "      <td>-0.074505</td>\n",
       "      <td>-0.149773</td>\n",
       "      <td>-0.008740</td>\n",
       "      <td>-0.135386</td>\n",
       "      <td>0.137252</td>\n",
       "      <td>0.003988</td>\n",
       "      <td>0.011502</td>\n",
       "      <td>-0.011830</td>\n",
       "      <td>0.026226</td>\n",
       "      <td>-0.023125</td>\n",
       "      <td>-0.062336</td>\n",
       "      <td>-0.290105</td>\n",
       "      <td>1.000000</td>\n",
       "      <td>0.090287</td>\n",
       "      <td>0.082321</td>\n",
       "      <td>0.093234</td>\n",
       "      <td>-0.109462</td>\n",
       "    </tr>\n",
       "    <tr>\n",
       "      <th>casual</th>\n",
       "      <td>0.158295</td>\n",
       "      <td>0.120206</td>\n",
       "      <td>0.142779</td>\n",
       "      <td>0.068457</td>\n",
       "      <td>0.301202</td>\n",
       "      <td>0.031564</td>\n",
       "      <td>0.032721</td>\n",
       "      <td>-0.300942</td>\n",
       "      <td>-0.152628</td>\n",
       "      <td>0.459616</td>\n",
       "      <td>0.454080</td>\n",
       "      <td>-0.347028</td>\n",
       "      <td>0.090287</td>\n",
       "      <td>1.000000</td>\n",
       "      <td>0.506618</td>\n",
       "      <td>0.694564</td>\n",
       "      <td>-0.250076</td>\n",
       "    </tr>\n",
       "    <tr>\n",
       "      <th>registered</th>\n",
       "      <td>0.282046</td>\n",
       "      <td>0.174226</td>\n",
       "      <td>0.253684</td>\n",
       "      <td>0.122273</td>\n",
       "      <td>0.374141</td>\n",
       "      <td>-0.047345</td>\n",
       "      <td>0.021578</td>\n",
       "      <td>0.134326</td>\n",
       "      <td>-0.120966</td>\n",
       "      <td>0.335361</td>\n",
       "      <td>0.332559</td>\n",
       "      <td>-0.273933</td>\n",
       "      <td>0.082321</td>\n",
       "      <td>0.506618</td>\n",
       "      <td>1.000000</td>\n",
       "      <td>0.972151</td>\n",
       "      <td>-0.371916</td>\n",
       "    </tr>\n",
       "    <tr>\n",
       "      <th>cnt</th>\n",
       "      <td>0.278379</td>\n",
       "      <td>0.178056</td>\n",
       "      <td>0.250495</td>\n",
       "      <td>0.120638</td>\n",
       "      <td>0.394071</td>\n",
       "      <td>-0.030927</td>\n",
       "      <td>0.026900</td>\n",
       "      <td>0.030284</td>\n",
       "      <td>-0.142426</td>\n",
       "      <td>0.404772</td>\n",
       "      <td>0.400929</td>\n",
       "      <td>-0.322911</td>\n",
       "      <td>0.093234</td>\n",
       "      <td>0.694564</td>\n",
       "      <td>0.972151</td>\n",
       "      <td>1.000000</td>\n",
       "      <td>-0.378318</td>\n",
       "    </tr>\n",
       "    <tr>\n",
       "      <th>time_label</th>\n",
       "      <td>0.006705</td>\n",
       "      <td>0.006617</td>\n",
       "      <td>0.004755</td>\n",
       "      <td>0.005786</td>\n",
       "      <td>-0.187486</td>\n",
       "      <td>-0.000702</td>\n",
       "      <td>0.002173</td>\n",
       "      <td>-0.000897</td>\n",
       "      <td>-0.035784</td>\n",
       "      <td>-0.061551</td>\n",
       "      <td>-0.057494</td>\n",
       "      <td>0.144593</td>\n",
       "      <td>-0.109462</td>\n",
       "      <td>-0.250076</td>\n",
       "      <td>-0.371916</td>\n",
       "      <td>-0.378318</td>\n",
       "      <td>1.000000</td>\n",
       "    </tr>\n",
       "  </tbody>\n",
       "</table>\n",
       "</div>"
      ],
      "text/plain": [
       "             instant    season        yr      mnth        hr   holiday  \\\n",
       "instant     1.000000  0.404046  0.866014  0.489164 -0.004775  0.014723   \n",
       "season      0.404046  1.000000 -0.010742  0.830386 -0.006117 -0.009585   \n",
       "yr          0.866014 -0.010742  1.000000 -0.010473 -0.003867  0.006692   \n",
       "mnth        0.489164  0.830386 -0.010473  1.000000 -0.005772  0.018430   \n",
       "hr         -0.004775 -0.006117 -0.003867 -0.005772  1.000000  0.000479   \n",
       "holiday     0.014723 -0.009585  0.006692  0.018430  0.000479  1.000000   \n",
       "weekday     0.001357 -0.002335 -0.004485  0.010400 -0.003498 -0.102088   \n",
       "workingday -0.003416  0.013743 -0.002196 -0.003477  0.002285 -0.252471   \n",
       "weathersit -0.014198 -0.014524 -0.019157  0.005400 -0.020203 -0.017036   \n",
       "temp        0.136178  0.312025  0.040913  0.201691  0.137603 -0.027340   \n",
       "atemp       0.137615  0.319380  0.039222  0.208096  0.133750 -0.030973   \n",
       "hum         0.009577  0.150625 -0.083546  0.164411 -0.276498 -0.010588   \n",
       "windspeed  -0.074505 -0.149773 -0.008740 -0.135386  0.137252  0.003988   \n",
       "casual      0.158295  0.120206  0.142779  0.068457  0.301202  0.031564   \n",
       "registered  0.282046  0.174226  0.253684  0.122273  0.374141 -0.047345   \n",
       "cnt         0.278379  0.178056  0.250495  0.120638  0.394071 -0.030927   \n",
       "time_label  0.006705  0.006617  0.004755  0.005786 -0.187486 -0.000702   \n",
       "\n",
       "             weekday  workingday  weathersit      temp     atemp       hum  \\\n",
       "instant     0.001357   -0.003416   -0.014198  0.136178  0.137615  0.009577   \n",
       "season     -0.002335    0.013743   -0.014524  0.312025  0.319380  0.150625   \n",
       "yr         -0.004485   -0.002196   -0.019157  0.040913  0.039222 -0.083546   \n",
       "mnth        0.010400   -0.003477    0.005400  0.201691  0.208096  0.164411   \n",
       "hr         -0.003498    0.002285   -0.020203  0.137603  0.133750 -0.276498   \n",
       "holiday    -0.102088   -0.252471   -0.017036 -0.027340 -0.030973 -0.010588   \n",
       "weekday     1.000000    0.035955    0.003311 -0.001795 -0.008821 -0.037158   \n",
       "workingday  0.035955    1.000000    0.044672  0.055390  0.054667  0.015688   \n",
       "weathersit  0.003311    0.044672    1.000000 -0.102640 -0.105563  0.418130   \n",
       "temp       -0.001795    0.055390   -0.102640  1.000000  0.987672 -0.069881   \n",
       "atemp      -0.008821    0.054667   -0.105563  0.987672  1.000000 -0.051918   \n",
       "hum        -0.037158    0.015688    0.418130 -0.069881 -0.051918  1.000000   \n",
       "windspeed   0.011502   -0.011830    0.026226 -0.023125 -0.062336 -0.290105   \n",
       "casual      0.032721   -0.300942   -0.152628  0.459616  0.454080 -0.347028   \n",
       "registered  0.021578    0.134326   -0.120966  0.335361  0.332559 -0.273933   \n",
       "cnt         0.026900    0.030284   -0.142426  0.404772  0.400929 -0.322911   \n",
       "time_label  0.002173   -0.000897   -0.035784 -0.061551 -0.057494  0.144593   \n",
       "\n",
       "            windspeed    casual  registered       cnt  time_label  \n",
       "instant     -0.074505  0.158295    0.282046  0.278379    0.006705  \n",
       "season      -0.149773  0.120206    0.174226  0.178056    0.006617  \n",
       "yr          -0.008740  0.142779    0.253684  0.250495    0.004755  \n",
       "mnth        -0.135386  0.068457    0.122273  0.120638    0.005786  \n",
       "hr           0.137252  0.301202    0.374141  0.394071   -0.187486  \n",
       "holiday      0.003988  0.031564   -0.047345 -0.030927   -0.000702  \n",
       "weekday      0.011502  0.032721    0.021578  0.026900    0.002173  \n",
       "workingday  -0.011830 -0.300942    0.134326  0.030284   -0.000897  \n",
       "weathersit   0.026226 -0.152628   -0.120966 -0.142426   -0.035784  \n",
       "temp        -0.023125  0.459616    0.335361  0.404772   -0.061551  \n",
       "atemp       -0.062336  0.454080    0.332559  0.400929   -0.057494  \n",
       "hum         -0.290105 -0.347028   -0.273933 -0.322911    0.144593  \n",
       "windspeed    1.000000  0.090287    0.082321  0.093234   -0.109462  \n",
       "casual       0.090287  1.000000    0.506618  0.694564   -0.250076  \n",
       "registered   0.082321  0.506618    1.000000  0.972151   -0.371916  \n",
       "cnt          0.093234  0.694564    0.972151  1.000000   -0.378318  \n",
       "time_label  -0.109462 -0.250076   -0.371916 -0.378318    1.000000  "
      ]
     },
     "execution_count": 38,
     "metadata": {},
     "output_type": "execute_result"
    }
   ],
   "source": [
    "bike_rentals.corr()"
   ]
  },
  {
   "cell_type": "code",
   "execution_count": 49,
   "metadata": {
    "collapsed": false
   },
   "outputs": [
    {
     "data": {
      "text/plain": [
       "cnt           1.000000\n",
       "registered    0.972151\n",
       "casual        0.694564\n",
       "temp          0.404772\n",
       "atemp         0.400929\n",
       "hr            0.394071\n",
       "time_label    0.378318\n",
       "hum           0.322911\n",
       "instant       0.278379\n",
       "yr            0.250495\n",
       "Name: cnt, dtype: float64"
      ]
     },
     "execution_count": 49,
     "metadata": {},
     "output_type": "execute_result"
    }
   ],
   "source": [
    "bike_rentals.corr()['cnt'].apply(np.abs).sort_values(ascending=False)[:10]"
   ]
  },
  {
   "cell_type": "code",
   "execution_count": 18,
   "metadata": {
    "collapsed": true
   },
   "outputs": [],
   "source": [
    "def assign_label(hr):\n",
    "    if 0 <= hr < 6:\n",
    "        return 4\n",
    "    elif 6 <= hr < 12:\n",
    "        return 1\n",
    "    elif 12 <= hr < 18:\n",
    "        return 2\n",
    "    elif 18 <= hr <= 24:\n",
    "        return 3\n"
   ]
  },
  {
   "cell_type": "code",
   "execution_count": 27,
   "metadata": {
    "collapsed": false
   },
   "outputs": [],
   "source": [
    "bike_rentals['time_label'] = bike_rentals['hr'].apply(assign_label)"
   ]
  },
  {
   "cell_type": "markdown",
   "metadata": {},
   "source": [
    "Based on the correlations examination performed, I am choosing to use Mean Absolute Error metric.  It doesnt appear that we need to give as much importance to big errors for this so RMSE isnt needed."
   ]
  },
  {
   "cell_type": "code",
   "execution_count": 39,
   "metadata": {
    "collapsed": true
   },
   "outputs": [],
   "source": [
    "from sklearn.metrics import mean_absolute_error"
   ]
  },
  {
   "cell_type": "code",
   "execution_count": 40,
   "metadata": {
    "collapsed": true
   },
   "outputs": [],
   "source": [
    "train = bike_rentals.sample(frac=0.8, replace=True, random_state=1)\n",
    "test = bike_rentals.loc[~bike_rentals.index.isin(train.index)]"
   ]
  },
  {
   "cell_type": "code",
   "execution_count": 41,
   "metadata": {
    "collapsed": true
   },
   "outputs": [],
   "source": [
    "from sklearn.linear_model import LinearRegression"
   ]
  },
  {
   "cell_type": "code",
   "execution_count": 86,
   "metadata": {
    "collapsed": true
   },
   "outputs": [],
   "source": [
    "predictors = [ \"time_label\",\"hr\", \"atemp\", \"hum\", \"instant\"]"
   ]
  },
  {
   "cell_type": "code",
   "execution_count": 87,
   "metadata": {
    "collapsed": true
   },
   "outputs": [],
   "source": [
    "lr = LinearRegression()\n",
    "lr.fit(train[predictors],train['cnt'])\n",
    "predictions = lr.predict(test[predictors])\n",
    "error = mean_absolute_error(test['cnt'], predictions)"
   ]
  },
  {
   "cell_type": "code",
   "execution_count": 88,
   "metadata": {
    "collapsed": false
   },
   "outputs": [
    {
     "name": "stdout",
     "output_type": "stream",
     "text": [
      "99.38993701801665\n"
     ]
    }
   ],
   "source": [
    "print(error)"
   ]
  },
  {
   "cell_type": "markdown",
   "metadata": {},
   "source": [
    "Error reduces most when using 5 predictors to get it below 100.  It seems MSE is a bit high though."
   ]
  },
  {
   "cell_type": "code",
   "execution_count": 89,
   "metadata": {
    "collapsed": true
   },
   "outputs": [],
   "source": [
    "from sklearn.tree import DecisionTreeRegressor"
   ]
  },
  {
   "cell_type": "code",
   "execution_count": 124,
   "metadata": {
    "collapsed": true
   },
   "outputs": [],
   "source": [
    "dt = DecisionTreeRegressor(min_samples_leaf=8)"
   ]
  },
  {
   "cell_type": "code",
   "execution_count": 125,
   "metadata": {
    "collapsed": false
   },
   "outputs": [
    {
     "name": "stdout",
     "output_type": "stream",
     "text": [
      "59.48073311479012\n"
     ]
    }
   ],
   "source": [
    "dt.fit(train[predictors], train['cnt'])\n",
    "predicts = dt.predict(test[predictors])\n",
    "error = mean_absolute_error(test['cnt'], predicts)\n",
    "print(error)"
   ]
  },
  {
   "cell_type": "markdown",
   "metadata": {},
   "source": [
    "Adjusting 'min_samples_leaf' reduced the initial error from 64 down to 59.  I expected decision tree to better predict this data set than linear regression due to the type of data and what we are trying to predict."
   ]
  },
  {
   "cell_type": "code",
   "execution_count": 161,
   "metadata": {
    "collapsed": false
   },
   "outputs": [
    {
     "name": "stdout",
     "output_type": "stream",
     "text": [
      "53.90258219524532\n"
     ]
    }
   ],
   "source": [
    "from sklearn.ensemble import RandomForestRegressor\n",
    "\n",
    "rf = RandomForestRegressor(min_samples_leaf=1, n_estimators=50)\n",
    "rf.fit(train[predictors], train['cnt'])\n",
    "predicts_rf = rf.predict(test[predictors])\n",
    "error = mean_absolute_error(test['cnt'], predicts_rf)\n",
    "print(error)"
   ]
  },
  {
   "cell_type": "markdown",
   "metadata": {},
   "source": [
    "As expected, I was able to further reduce the MAE by using random forest algorithm as well as adjusting a few parameters."
   ]
  },
  {
   "cell_type": "code",
   "execution_count": null,
   "metadata": {
    "collapsed": true
   },
   "outputs": [],
   "source": []
  }
 ],
 "metadata": {
  "kernelspec": {
   "display_name": "Python 3",
   "language": "python",
   "name": "python3"
  },
  "language_info": {
   "codemirror_mode": {
    "name": "ipython",
    "version": 3
   },
   "file_extension": ".py",
   "mimetype": "text/x-python",
   "name": "python",
   "nbconvert_exporter": "python",
   "pygments_lexer": "ipython3",
   "version": "3.4.3"
  }
 },
 "nbformat": 4,
 "nbformat_minor": 0
}
